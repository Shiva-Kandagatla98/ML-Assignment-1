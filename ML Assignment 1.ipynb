{
 "cells": [
  {
   "attachments": {},
   "cell_type": "markdown",
   "metadata": {},
   "source": [
    "## Machine Learning Assignment #1\n",
    "### Submitted by Shiva Kandagatla"
   ]
  },
  {
   "cell_type": "code",
   "execution_count": 64,
   "metadata": {},
   "outputs": [
    {
     "name": "stdout",
     "output_type": "stream",
     "text": [
      "sorted ages list : [19, 19, 20, 22, 24, 24, 24, 25, 25, 26]\n",
      "min age :  19\n",
      "max age :  26\n",
      "sorted ages after adding min and max age :  [19, 19, 20, 22, 24, 24, 24, 25, 25, 26, 19, 26]\n",
      "12\n",
      "Median Age :  24.0\n",
      "Average Age :  22.75\n",
      "Range of Age :  7\n"
     ]
    }
   ],
   "source": [
    "# Question 1\n",
    "# The following is a list of 10 students ages:\n",
    "ages = [19, 22, 19, 24, 20, 25, 26, 24, 25, 24]\n",
    "# Sort the list and find the min and max age\n",
    "ages_sorted = sorted(ages)\n",
    "print(\"sorted ages list :\", ages_sorted)\n",
    "# finding min age from sorted ages list\n",
    "min_age = min(ages_sorted)\n",
    "print(\"min age : \", min_age)\n",
    "# finding max age from sorted ages list\n",
    "max_age = max(ages_sorted)\n",
    "print(\"max age : \", max_age)\n",
    "# Add the min age and the max age again to the list\n",
    "ages_sorted.extend((min_age, max_age))\n",
    "print(\"sorted ages after adding min and max age : \", ages_sorted)\n",
    "# calculating Median of Ages\n",
    "ages_sorted = sorted(ages_sorted)\n",
    "print(len(ages_sorted))\n",
    "ages_len = len(ages_sorted)\n",
    "# finiding Median age\n",
    "from math import ceil\n",
    "median_age = (ages_sorted[int(ages_len/2)-1] + ages_sorted[int(ages_len/2)]) / 2 if ages_len % 2 == 0 else  ages_sorted[ceil(ages_len/2)]\n",
    "print(\"Median Age : \", median_age)\n",
    "# calculating Average of Ages\n",
    "avg_age = sum(ages_sorted)/len(ages_sorted)\n",
    "print(\"Average Age : \", avg_age)\n",
    "# calculating Range of Ages\n",
    "range_age = max_age - min_age\n",
    "print(\"Range of Age : \", range_age)"
   ]
  },
  {
   "cell_type": "code",
   "execution_count": 65,
   "metadata": {},
   "outputs": [
    {
     "name": "stdout",
     "output_type": "stream",
     "text": [
      "dog dictionary :  {'name': 'Jimmy', 'color': 'Black', 'breed': 'German Shepherd', 'legs': 4, 'age': 3}\n",
      "student dictionary :  {'first_name': 'Shiva', 'last_name': 'Kandagatla', 'gender': 'male', 'age': 24, 'marital status': 'single', 'skills': ['python', 'ML', 'web development'], 'country': 'India', 'city': 'Hyderabad', 'address': 'Madhapur, Hyderabad, India'}\n",
      "length of student dictionary :  9\n",
      "skills of student :  ['python', 'ML', 'web development']\n",
      "type of skills : <class 'list'>\n",
      "updated student skills :  ['python', 'ML', 'web development', 'Mobile App Development']\n",
      "keys of student dictionary :  ['first_name', 'last_name', 'gender', 'age', 'marital status', 'skills', 'country', 'city', 'address']\n",
      "values of student dictionary :  ['Shiva', 'Kandagatla', 'male', 24, 'single', ['python', 'ML', 'web development', 'Mobile App Development'], 'India', 'Hyderabad', 'Madhapur, Hyderabad, India']\n"
     ]
    }
   ],
   "source": [
    "# Question 2\n",
    "# Create an empty dictionary called dog\n",
    "dog = dict()\n",
    "# Adding data to dog dictionary\n",
    "dog['name'] = 'Jimmy'\n",
    "dog['color'] = 'Black'\n",
    "dog['breed'] = 'German Shepherd'\n",
    "dog['legs'] = 4\n",
    "dog['age'] = 3\n",
    "print(\"dog dictionary : \", dog)\n",
    "# creating student dictionary with data\n",
    "student = {\n",
    "    \"first_name\": \"Shiva\",\n",
    "    \"last_name\": \"Kandagatla\",\n",
    "    \"gender\": \"male\",\n",
    "    \"age\": 24,\n",
    "    \"marital status\": \"single\",\n",
    "    \"skills\": [\"python\", \"ML\", \"web development\"],\n",
    "    \"country\": \"India\",\n",
    "    \"city\": \"Hyderabad\",\n",
    "    \"address\": \"Madhapur, Hyderabad, India\"\n",
    "}\n",
    "print(\"student dictionary : \", student)\n",
    "# length of the student dictionary\n",
    "length_student = len(student)\n",
    "print(\"length of student dictionary : \", length_student)\n",
    "# skills of the student from the dictionary\n",
    "skills = student['skills']\n",
    "print(\"skills of student : \", skills)\n",
    "# type of skills\n",
    "print(\"type of skills :\",type(skills))\n",
    "# updating student skills\n",
    "student['skills'].extend([\"Mobile App Development\"])\n",
    "print(\"updated student skills : \", student[\"skills\"])\n",
    "# keys of student dictionary\n",
    "print(\"keys of student dictionary : \", list(student.keys()))\n",
    "# values of student dictionary\n",
    "print(\"values of student dictionary : \", list(student.values()))\n"
   ]
  },
  {
   "cell_type": "code",
   "execution_count": 66,
   "metadata": {},
   "outputs": [
    {
     "name": "stdout",
     "output_type": "stream",
     "text": [
      "brothers :  ('Kamal', 'Sai Teja', 'Virat Sai')\n",
      "sisters :  ('Sita', 'Geetha')\n",
      "siblings :  ('Kamal', 'Sai Teja', 'Virat Sai', 'Sita', 'Geetha')\n",
      "length of siblings tuple 5\n",
      "family members :  ('Kamal', 'Sai Teja', 'Virat Sai', 'Sita', 'Geetha', 'Akki', 'Raj')\n"
     ]
    }
   ],
   "source": [
    "# Question 3\n",
    "# creating a tuple for brothers\n",
    "bros = (\"Kamal\",\"Sai Teja\", \"Virat Sai\")\n",
    "print(\"brothers : \", bros)\n",
    "# creating a tuple for sisters\n",
    "sis =  (\"Sita\",\"Geetha\")\n",
    "print(\"sisters : \", sis)\n",
    "# creating siblings by adding brothers and sisters\n",
    "sibs = bros + sis\n",
    "print(\"siblings : \", sibs)\n",
    "# length of siblings tuple\n",
    "len_of_siblings = len(sibs)\n",
    "print(\"length of siblings tuple\", len_of_siblings)\n",
    "\n",
    "# adding parents with siblings tuple creating new tuple\n",
    "family_members = sibs + (\"Akki\",\"Raj\")\n",
    "print(\"family members : \", family_members)"
   ]
  },
  {
   "cell_type": "code",
   "execution_count": 67,
   "metadata": {},
   "outputs": [
    {
     "name": "stdout",
     "output_type": "stream",
     "text": [
      "length of it_companies set :  7\n",
      "it companies :  {'Amazon', 'Google', 'Microsoft', 'Twitter', 'IBM', 'Facebook', 'Apple'}\n",
      " remove vs discard : \n",
      "Remove method deletes the element from the list if not present it throws Key error where as,\n",
      "Discard method deleted the element from the list otherwise it returns None\n",
      "Join of A and B :  {19, 20, 22, 24, 25, 26, 27, 28}\n",
      "Intersection of A and B :  {19, 20, 22, 24, 25, 26}\n",
      "Is A subset of B :  True\n",
      "Is A disjoint of B :  False\n",
      "A union B :  {19, 20, 22, 24, 25, 26, 27, 28}\n",
      "B union A :  {19, 20, 22, 24, 25, 26, 27, 28}\n",
      "set A difference with set B :  set()\n",
      "Is length of age list same of length of age set :  False\n"
     ]
    }
   ],
   "source": [
    "# Question 4\n",
    "it_companies = {'Facebook', 'Google', 'Microsoft', 'Apple', 'IBM', 'Oracle', 'Amazon'}\n",
    "A = {19, 22, 24, 20, 25, 26}\n",
    "B = {19, 22, 20, 25, 26, 24, 28, 27}\n",
    "age = [22, 19, 24, 25, 26, 24, 25, 24]\n",
    "\n",
    "# length of it_companies set\n",
    "print(\"length of it_companies set : \", len(it_companies))\n",
    "# adding company to it_company\n",
    "it_companies.add(\"Twitter\")\n",
    "# removing company from it_company\n",
    "it_companies.discard(\"Oracle\")\n",
    "print(\"it companies : \", it_companies)\n",
    "print(\"\"\" remove vs discard : \n",
    "Remove method deletes the element from the list if not present it throws Key error where as,\n",
    "Discard method deleted the element from the list otherwise it returns None\"\"\")\n",
    "# joining A and B sets\n",
    "print(\"Join of A and B : \", A.union(B))\n",
    "# intersection of A and B sets\n",
    "print(\"Intersection of A and B : \",A.intersection(B))\n",
    "# checking if A is subset of B\n",
    "print(\"Is A subset of B : \", A.issubset(B))\n",
    "# check if A is disjoint of B\n",
    "print(\"Is A disjoint of B : \", A.isdisjoint(B))\n",
    "# A union B and B union A\n",
    "print(\"A union B : \", A.union(B))\n",
    "print(\"B union A : \", B.union(A))\n",
    "# symmetric difference between two sets\n",
    "print(\"set A difference with set B : \",A.difference(B))\n",
    "# deleting sets A and B\n",
    "A.clear()\n",
    "B.clear()\n",
    "# converting age list to set\n",
    "set_ages = set(age)\n",
    "# comparing length of list and length of set\n",
    "print(\"Is length of age list same of length of age set : \", len(age) == len(set_ages))"
   ]
  },
  {
   "cell_type": "code",
   "execution_count": 68,
   "metadata": {},
   "outputs": [
    {
     "name": "stdout",
     "output_type": "stream",
     "text": [
      "Area of given circle : 2826.0\n",
      "Circumference of circle : 188.4\n",
      "You entered radius : 63.0\n",
      "Area of your circle is :  12462.660000000002\n"
     ]
    }
   ],
   "source": [
    "# Question 5\n",
    "# The radius of a circle is 30 meters.\n",
    "r = 30\n",
    "pi = 3.14 # Pi value\n",
    "# calculating area of circle using Pi r square formula\n",
    "_area_of_circle_ =  pi * r * r\n",
    "print(\"Area of given circle :\", _area_of_circle_)\n",
    "# calculating cirumference of circle\n",
    "_circum_of_circle_ = 2 * pi * r\n",
    "print(\"Circumference of circle :\", _circum_of_circle_)\n",
    "# user input\n",
    "r = float(input(\"Enter radius : \"))\n",
    "# calculating area of circle from user inputs\n",
    "print(\"You entered radius : \" + str(r))\n",
    "area_of_circle = pi * r * r\n",
    "print(\"Area of your circle is : \", area_of_circle)"
   ]
  },
  {
   "cell_type": "code",
   "execution_count": 69,
   "metadata": {},
   "outputs": [
    {
     "name": "stdout",
     "output_type": "stream",
     "text": [
      "unique words :  {'a', 'teacher', 'people', 'to', 'teach', 'I', 'inspire', 'and', 'am', 'love'}\n",
      "Length of Unique words :  10\n"
     ]
    }
   ],
   "source": [
    "# Question 6\n",
    "sentence = \"I am a teacher and I love to inspire and teach people\"\n",
    "uniq = set(sentence.split())\n",
    "print(\"unique words : \", uniq)\n",
    "print(\"Length of Unique words : \", len(uniq))"
   ]
  },
  {
   "cell_type": "code",
   "execution_count": 70,
   "metadata": {},
   "outputs": [
    {
     "name": "stdout",
     "output_type": "stream",
     "text": [
      "Name\t\tAge\tCountry\t\tCity\n",
      "Asabeneh\t250\tFinland\t\tHelsinki\n"
     ]
    }
   ],
   "source": [
    "# Question 7\n",
    "# we use \\t for tab escape and \\n for newline.\n",
    "data = \"Name\\t\\tAge\\tCountry\\t\\tCity\\nAsabeneh\\t250\\tFinland\\t\\tHelsinki\"\n",
    "print(data)"
   ]
  },
  {
   "cell_type": "code",
   "execution_count": 71,
   "metadata": {},
   "outputs": [
    {
     "name": "stdout",
     "output_type": "stream",
     "text": [
      "The area of a circle with radius 10 is 314 meters square.\n"
     ]
    }
   ],
   "source": [
    "# Question 8\n",
    "radius = 10\n",
    "area = 3.14 * radius ** 2\n",
    "# we can use format function as follows\n",
    "formatted_statement = \"The area of a circle with radius {} is {} meters square.\".format(radius, int(area))\n",
    "print(formatted_statement)"
   ]
  },
  {
   "cell_type": "code",
   "execution_count": 72,
   "metadata": {},
   "outputs": [
    {
     "name": "stdout",
     "output_type": "stream",
     "text": [
      "You entered No of students value as :  2\n",
      "lbs weights :  [130, 155]\n",
      "kg weights :  [58.97, 70.31]\n"
     ]
    }
   ],
   "source": [
    "# Question 9\n",
    "# take no of students from user\n",
    "N = int(input(\"Enter Number of students : \"))\n",
    "print(\"You entered No of students value as : \" , N)\n",
    "# lb to kg conversion value\n",
    "lbs_to_kg_convertion_value = 0.4536\n",
    "lbs = []\n",
    "kg = []\n",
    "# input all student weights input\n",
    "for i in range(0,N):\n",
    "    lbs.append(int(input(\"Enter student Weight(lbs) : \")))\n",
    "print(\"lbs weights : \",lbs)\n",
    "# converted weights to kg\n",
    "for weight in lbs:\n",
    "    kg.append(round(weight * lbs_to_kg_convertion_value,2))\n",
    "print(\"kg weights : \", kg)\n"
   ]
  },
  {
   "cell_type": "code",
   "execution_count": 73,
   "metadata": {},
   "outputs": [],
   "source": [
    "# Question 10\n",
    "\n",
    "### Refer Word Document Question 10 for the Solution ###"
   ]
  }
 ],
 "metadata": {
  "kernelspec": {
   "display_name": "Python 3",
   "language": "python",
   "name": "python3"
  },
  "language_info": {
   "codemirror_mode": {
    "name": "ipython",
    "version": 3
   },
   "file_extension": ".py",
   "mimetype": "text/x-python",
   "name": "python",
   "nbconvert_exporter": "python",
   "pygments_lexer": "ipython3",
   "version": "3.9.6"
  },
  "orig_nbformat": 4,
  "vscode": {
   "interpreter": {
    "hash": "31f2aee4e71d21fbe5cf8b01ff0e069b9275f58929596ceb00d14d90e3e16cd6"
   }
  }
 },
 "nbformat": 4,
 "nbformat_minor": 2
}
